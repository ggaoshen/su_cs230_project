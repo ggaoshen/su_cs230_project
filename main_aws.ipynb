{
 "cells": [
  {
   "cell_type": "code",
   "execution_count": null,
   "metadata": {},
   "outputs": [
    {
     "name": "stderr",
     "output_type": "stream",
     "text": [
      "Using TensorFlow backend.\n",
      "  0%|          | 0/100 [00:00<?, ?it/s]"
     ]
    },
    {
     "name": "stdout",
     "output_type": "stream",
     "text": [
      "               AAPL   TSLA\n",
      "date                      \n",
      "2010-06-29  31.8384  23.89\n",
      "2010-06-30  31.2617  23.83\n",
      "2010-07-01  30.8827  21.96\n",
      "2010-07-02  30.6913  19.20\n",
      "2010-07-06  30.9013  16.11\n",
      "Model: \"sequential_1\"\n",
      "_________________________________________________________________\n",
      "Layer (type)                 Output Shape              Param #   \n",
      "=================================================================\n",
      "reshape_1 (Reshape)          (None, 40)                0         \n",
      "_________________________________________________________________\n",
      "dense_1 (Dense)              (None, 256)               10496     \n",
      "_________________________________________________________________\n",
      "dense_2 (Dense)              (None, 32)                8224      \n",
      "_________________________________________________________________\n",
      "dense_3 (Dense)              (None, 10)                330       \n",
      "=================================================================\n",
      "Total params: 19,050\n",
      "Trainable params: 19,050\n",
      "Non-trainable params: 0\n",
      "_________________________________________________________________\n",
      "------------------------------------------------------------\n",
      "Training\n",
      "------------------------------------------------------------\n"
     ]
    },
    {
     "name": "stderr",
     "output_type": "stream",
     "text": [
      " 48%|████▊     | 48/100 [55:35<1:16:57, 88.80s/it]"
     ]
    }
   ],
   "source": [
    "from environment import Market, get_ts\n",
    "from model import Q_Model\n",
    "from agent import Agent\n",
    "from simulator import Simulator\n",
    "import pandas as pd\n",
    "\n",
    "# sampler = Single_Signal_Generator(total_timesteps=180, period_range=(10, 40), amplitude_range=(5, 80), noise_amplitude_ratio=0.5)\n",
    "# filename = \"Generated Signals.npy\"\n",
    "# sampler.build_signals(filename, 1000)\n",
    "# sampler.load(filename)\n",
    "# env = Market(sampler=sampler, last_n_timesteps=40, buy_cost=3.3)\n",
    "\n",
    "ticker=['AAPL', 'TSLA']\n",
    "sample = get_ts(ticker)\n",
    "sample.to_csv('data/test/test_data.csv')\n",
    "# import os\n",
    "# print(os.getcwd())\n",
    "sample = pd.read_csv('data/test/test_data.csv', index_col=0)\n",
    "print(sample.head())\n",
    "# print(sample.shape)\n",
    "# print(sample.dtypes)\n",
    "env = Market(sample, 20, 3.3)\n",
    "# env.reset()\n",
    "\n",
    "dense_model = [\n",
    "    {\"type\":\"Reshape\", \"target_shape\":(env.get_state().shape[0]*env.get_state().shape[1],)},\n",
    "    {\"type\":\"Dense\", \"units\":128*env.get_state().shape[1]},\n",
    "    {\"type\":\"Dense\", \"units\":32}\n",
    "]\n",
    "conv_model = [\n",
    "    {\"type\":\"Reshape\", \"target_shape\":env.get_state().shape},\n",
    "    {\"type\":\"Conv1D\", \"filters\":16, \"kernel_size\":3, \"activation\":\"relu\"},\n",
    "    {\"type\":\"Conv1D\", \"filters\":16, \"kernel_size\":3, \"activation\":\"relu\"},\n",
    "    {\"type\":\"Flatten\"},\n",
    "    {\"type\":\"Dense\", \"units\":48, \"activation\":\"relu\"},\n",
    "    {\"type\":\"Dense\", \"units\":24, \"activation\":\"relu\"}\n",
    "]\n",
    "gru_model = [\n",
    "    {\"type\":\"Reshape\", \"target_shape\":env.get_state().shape},\n",
    "    {\"type\":\"GRU\", \"units\":16, \"return_sequences\":True},\n",
    "    {\"type\":\"GRU\", \"units\":16, \"return_sequences\":False},\n",
    "    {\"type\":\"Dense\", \"units\":16, \"activation\":\"relu\"},\n",
    "    {\"type\":\"Dense\", \"units\":16, \"activation\":\"relu\"}\n",
    "]\n",
    "lstm_model = [\n",
    "    {\"type\":\"Reshape\", \"target_shape\":env.get_state().shape},\n",
    "    {\"type\":\"LSTM\", \"units\":16, \"return_sequences\":True},\n",
    "    {\"type\":\"LSTM\", \"units\":16, \"return_sequences\":False},\n",
    "    {\"type\":\"Dense\", \"units\":16, \"activation\":\"relu\"},\n",
    "    {\"type\":\"Dense\", \"units\":16, \"activation\":\"relu\"}\n",
    "]\n",
    "\n",
    "q_model = Q_Model(\"Dense\", state_dim=env.get_state().shape, no_of_actions=env.no_of_actions, layers=dense_model, hyperparameters={\"lr\":0.0001})\n",
    "agent = Agent(q_model, batch_size=8, discount_factor=0.995, epsilon=1)\n",
    "\n",
    "no_of_episodes_train = 100\n",
    "no_of_episodes_test = 1\n",
    "\n",
    "sim = Simulator(env, agent)\n",
    "sim.train(no_of_episodes_train, epsilon_decay=0.997)\n",
    "agent.model.save()\n",
    "sim.test(no_of_episodes_test)"
   ]
  },
  {
   "cell_type": "code",
   "execution_count": null,
   "metadata": {},
   "outputs": [],
   "source": []
  },
  {
   "cell_type": "code",
   "execution_count": null,
   "metadata": {},
   "outputs": [],
   "source": []
  }
 ],
 "metadata": {
  "kernelspec": {
   "display_name": "Python 3",
   "language": "python",
   "name": "python3"
  },
  "language_info": {
   "codemirror_mode": {
    "name": "ipython",
    "version": 3
   },
   "file_extension": ".py",
   "mimetype": "text/x-python",
   "name": "python",
   "nbconvert_exporter": "python",
   "pygments_lexer": "ipython3",
   "version": "3.7.4"
  }
 },
 "nbformat": 4,
 "nbformat_minor": 2
}
