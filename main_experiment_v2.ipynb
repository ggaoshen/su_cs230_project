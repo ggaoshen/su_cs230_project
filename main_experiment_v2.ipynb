{
 "cells": [
  {
   "cell_type": "code",
   "execution_count": 1,
   "metadata": {
    "scrolled": false
   },
   "outputs": [
    {
     "name": "stderr",
     "output_type": "stream",
     "text": [
      "Using TensorFlow backend.\n",
      "  0%|          | 0/250 [00:00<?, ?it/s]"
     ]
    },
    {
     "name": "stdout",
     "output_type": "stream",
     "text": [
      "             TSLA     GOOGL       MS      IBM       KO      CVX       HD  \\\n",
      "date                                                                       \n",
      "2010-06-29  23.89  227.8333  20.1909  94.0708  18.8046  47.9884  22.9363   \n",
      "2010-06-30  23.83  223.1639  19.9843  92.8600  18.7262  47.6374  22.4877   \n",
      "2010-07-01  21.96  220.4254  19.8809  92.1757  18.6925  47.3706  22.3675   \n",
      "2010-07-02  19.20  218.9509  19.6571  91.6417  18.7000  47.2513  22.2393   \n",
      "2010-07-06  16.11  218.7101  19.7776  92.8450  18.8420  47.4268  21.9029   \n",
      "\n",
      "                MCD  \n",
      "date                 \n",
      "2010-06-29  50.1788  \n",
      "2010-06-30  49.7334  \n",
      "2010-07-01  50.3676  \n",
      "2010-07-02  49.9372  \n",
      "2010-07-06  49.9146  \n",
      "Model: \"sequential_1\"\n",
      "_________________________________________________________________\n",
      "Layer (type)                 Output Shape              Param #   \n",
      "=================================================================\n",
      "reshape_1 (Reshape)          (None, 160)               0         \n",
      "_________________________________________________________________\n",
      "dense_1 (Dense)              (None, 512)               82432     \n",
      "_________________________________________________________________\n",
      "dense_2 (Dense)              (None, 64)                32832     \n",
      "_________________________________________________________________\n",
      "dense_3 (Dense)              (None, 40)                2600      \n",
      "=================================================================\n",
      "Total params: 117,864\n",
      "Trainable params: 117,864\n",
      "Non-trainable params: 0\n",
      "_________________________________________________________________\n",
      "------------------------------------------------------------\n",
      "Training\n",
      "------------------------------------------------------------\n"
     ]
    },
    {
     "name": "stderr",
     "output_type": "stream",
     "text": [
      "100%|██████████| 250/250 [1:39:03<00:00, 23.78s/it]\n",
      "  0%|          | 0/1 [00:00<?, ?it/s]"
     ]
    },
    {
     "name": "stdout",
     "output_type": "stream",
     "text": [
      "------------------------------------------------------------\n",
      "Testing\n",
      "------------------------------------------------------------\n"
     ]
    },
    {
     "name": "stderr",
     "output_type": "stream",
     "text": [
      "100%|██████████| 1/1 [00:01<00:00,  1.15s/it]\n"
     ]
    },
    {
     "name": "stdout",
     "output_type": "stream",
     "text": [
      "best stock pick:  MS\n"
     ]
    },
    {
     "data": {
      "text/plain": [
       "<Figure size 1200x800 with 1 Axes>"
      ]
     },
     "metadata": {},
     "output_type": "display_data"
    },
    {
     "data": {
      "text/plain": [
       "<Figure size 1200x800 with 1 Axes>"
      ]
     },
     "metadata": {},
     "output_type": "display_data"
    },
    {
     "data": {
      "text/plain": [
       "<Figure size 1200x800 with 1 Axes>"
      ]
     },
     "metadata": {},
     "output_type": "display_data"
    },
    {
     "data": {
      "text/plain": [
       "<Figure size 1200x800 with 1 Axes>"
      ]
     },
     "metadata": {},
     "output_type": "display_data"
    },
    {
     "data": {
      "text/plain": [
       "<Figure size 1200x800 with 1 Axes>"
      ]
     },
     "metadata": {},
     "output_type": "display_data"
    },
    {
     "data": {
      "text/plain": [
       "<Figure size 1200x800 with 1 Axes>"
      ]
     },
     "metadata": {},
     "output_type": "display_data"
    },
    {
     "data": {
      "text/plain": [
       "<Figure size 1200x800 with 1 Axes>"
      ]
     },
     "metadata": {},
     "output_type": "display_data"
    },
    {
     "data": {
      "text/plain": [
       "<Figure size 1200x800 with 1 Axes>"
      ]
     },
     "metadata": {},
     "output_type": "display_data"
    },
    {
     "data": {
      "text/plain": [
       "<Figure size 1200x800 with 1 Axes>"
      ]
     },
     "metadata": {},
     "output_type": "display_data"
    }
   ],
   "source": [
    "from environment import Market, get_ts\n",
    "from model import Q_Model\n",
    "from agent import Agent\n",
    "from simulator import Simulator\n",
    "from visualization import Visualize\n",
    "import pandas as pd\n",
    "import matplotlib.pyplot as plt\n",
    "\n",
    "# sampler = Single_Signal_Generator(total_timesteps=180, period_range=(10, 40), amplitude_range=(5, 80), noise_amplitude_ratio=0.5)\n",
    "# filename = \"Generated Signals.npy\"\n",
    "# sampler.build_signals(filename, 1000)\n",
    "# sampler.load(filename)\n",
    "# env = Market(sampler=sampler, last_n_timesteps=40, trans_cost=3.3)\n",
    "\n",
    "# ticker=['MS']\n",
    "# ticker=['TSLA']\n",
    "# ticker=['TSLA', 'GOOGL', 'MS', 'KO', 'CVX', 'HD', 'MMM' ,'BA']\n",
    "# sample = get_ts(ticker)\n",
    "# sample.to_csv('data/test/test_data_8stockmix.csv')\n",
    "sample = pd.read_csv('data/test/test_data_8stockmix.csv', index_col=0)\n",
    "# sample = pd.read_csv('data/test/test_data.csv', index_col=0)\n",
    "print(sample.head())\n",
    "# print(sample.shape)\n",
    "# print(sample.dtypes)\n",
    "env_train = Market(sample.iloc[:1500, :], 20, 0.5)\n",
    "env_test = Market(sample.iloc[1500:, :], 20, 0.5)\n",
    "# env.reset()\n",
    "\n",
    "dense_model = [\n",
    "    {\"type\":\"Reshape\", \"target_shape\":(env_train.get_state().shape[0]*env_train.get_state().shape[1],)},\n",
    "    {\"type\":\"Dense\", \"units\":64*env_train.get_state().shape[1]},\n",
    "    {\"type\":\"Dense\", \"units\":64}\n",
    "]\n",
    "conv_model = [\n",
    "    {\"type\":\"Reshape\", \"target_shape\":env_train.get_state().shape},\n",
    "    {\"type\":\"Conv1D\", \"filters\":16, \"kernel_size\":3, \"activation\":\"relu\"},\n",
    "    {\"type\":\"Conv1D\", \"filters\":16, \"kernel_size\":3, \"activation\":\"relu\"},\n",
    "    {\"type\":\"Flatten\"},\n",
    "    {\"type\":\"Dense\", \"units\":48, \"activation\":\"relu\"},\n",
    "    {\"type\":\"Dense\", \"units\":24, \"activation\":\"relu\"}\n",
    "]\n",
    "gru_model = [\n",
    "    {\"type\":\"Reshape\", \"target_shape\":env_train.get_state().shape},\n",
    "    {\"type\":\"GRU\", \"units\":16, \"return_sequences\":True},\n",
    "    {\"type\":\"GRU\", \"units\":16, \"return_sequences\":False},\n",
    "    {\"type\":\"Dense\", \"units\":16, \"activation\":\"relu\"},\n",
    "    # {\"type\":\"Dense\", \"units\":16, \"activation\":\"relu\"}\n",
    "]\n",
    "lstm_model = [\n",
    "    {\"type\":\"Reshape\", \"target_shape\":env_train.get_state().shape},\n",
    "    {\"type\":\"LSTM\", \"units\":16, \"return_sequences\":True},\n",
    "    {\"type\":\"LSTM\", \"units\":16, \"return_sequences\":False},\n",
    "    {\"type\":\"Dense\", \"units\":16, \"activation\":\"relu\"},\n",
    "    # {\"type\":\"Dense\", \"units\":16, \"activation\":\"relu\"}\n",
    "]\n",
    "\n",
    "# user input\n",
    "no_epochs = 250\n",
    "model_name = 'Dense_8stock_longonly_ewa'\n",
    "run_details = model_name + '_' + str(no_epochs) + '_eps'\n",
    "learning_rate = 0.0001\n",
    "# experience replay batch_size = 16\n",
    "\n",
    "# build model and agent\n",
    "q_model = Q_Model(model_name, state_dim=env_train.get_state().shape, no_of_actions=env_train.no_of_actions, layers=dense_model, hyperparameters={\"lr\":learning_rate})\n",
    "agent = Agent(q_model, batch_size=8, discount_factor=0.995, epsilon=0.7)\n",
    "\n",
    "# train and test\n",
    "sim = Simulator(env_train, agent)\n",
    "ep_end_portf_val_train, last_eps_position_ts_train, exploration_episode_rewards_train, episode_ending_losses = sim.train(no_epochs, epsilon_decay=0.995)\n",
    "\n",
    "# save model snapshot \n",
    "agent.model.save() \n",
    "\n",
    "sim_test = Simulator(env_test, agent)\n",
    "test_portf_val_ts, test_position_ts, test_ending_rewards = sim_test.test()\n",
    "\n",
    "# visualize result\n",
    "viz = Visualize(env_train, env_test, ep_end_portf_val_train, exploration_episode_rewards_train, episode_ending_losses, run_details)\n",
    "viz.save_test_results()"
   ]
  },
  {
   "cell_type": "code",
   "execution_count": 9,
   "metadata": {},
   "outputs": [
    {
     "data": {
      "text/plain": [
       "(-10000000, 10000000)"
      ]
     },
     "execution_count": 9,
     "metadata": {},
     "output_type": "execute_result"
    },
    {
     "data": {
      "image/png": "[encoded data removed]",
      "text/plain": [
       "<Figure size 432x288 with 1 Axes>"
      ]
     },
     "metadata": {
      "needs_background": "light"
     },
     "output_type": "display_data"
    }
   ],
   "source": [
    "import numpy as np\n",
    "plt.plot(np.sum(np.array(exploration_episode_rewards_train), axis=1))\n",
    "plt.ylim(-10000000, 10000000)"
   ]
  },
  {
   "cell_type": "code",
   "execution_count": null,
   "metadata": {},
   "outputs": [],
   "source": []
  }
 ],
 "metadata": {
  "kernelspec": {
   "display_name": "Python 3",
   "language": "python",
   "name": "python3"
  },
  "language_info": {
   "codemirror_mode": {
    "name": "ipython",
    "version": 3
   },
   "file_extension": ".py",
   "mimetype": "text/x-python",
   "name": "python",
   "nbconvert_exporter": "python",
   "pygments_lexer": "ipython3",
   "version": "3.7.4"
  }
 },
 "nbformat": 4,
 "nbformat_minor": 2
}
