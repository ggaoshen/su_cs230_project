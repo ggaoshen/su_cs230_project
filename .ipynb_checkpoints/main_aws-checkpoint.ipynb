{
 "cells": [
  {
   "cell_type": "code",
   "execution_count": 6,
   "metadata": {},
   "outputs": [
    {
     "ename": "ImportError",
     "evalue": "cannot import name 'get_ts'",
     "output_type": "error",
     "traceback": [
      "\u001b[0;31m---------------------------------------------------------------------------\u001b[0m",
      "\u001b[0;31mImportError\u001b[0m                               Traceback (most recent call last)",
      "\u001b[0;32m<ipython-input-6-6c520ede638d>\u001b[0m in \u001b[0;36m<module>\u001b[0;34m()\u001b[0m\n\u001b[0;32m----> 1\u001b[0;31m \u001b[0;32mfrom\u001b[0m \u001b[0menvironment\u001b[0m \u001b[0;32mimport\u001b[0m \u001b[0mMarket\u001b[0m\u001b[0;34m,\u001b[0m \u001b[0mget_ts\u001b[0m\u001b[0;34m\u001b[0m\u001b[0m\n\u001b[0m\u001b[1;32m      2\u001b[0m \u001b[0;32mfrom\u001b[0m \u001b[0mmodel\u001b[0m \u001b[0;32mimport\u001b[0m \u001b[0mQ_Model\u001b[0m\u001b[0;34m\u001b[0m\u001b[0m\n\u001b[1;32m      3\u001b[0m \u001b[0;32mfrom\u001b[0m \u001b[0magent\u001b[0m \u001b[0;32mimport\u001b[0m \u001b[0mAgent\u001b[0m\u001b[0;34m\u001b[0m\u001b[0m\n\u001b[1;32m      4\u001b[0m \u001b[0;32mfrom\u001b[0m \u001b[0msimulator\u001b[0m \u001b[0;32mimport\u001b[0m \u001b[0mSimulator\u001b[0m\u001b[0;34m\u001b[0m\u001b[0m\n\u001b[1;32m      5\u001b[0m \u001b[0;32mimport\u001b[0m \u001b[0mpandas\u001b[0m \u001b[0;32mas\u001b[0m \u001b[0mpd\u001b[0m\u001b[0;34m\u001b[0m\u001b[0m\n",
      "\u001b[0;31mImportError\u001b[0m: cannot import name 'get_ts'"
     ]
    }
   ],
   "source": [
    "from environment import Market, get_ts\n",
    "from model import Q_Model\n",
    "from agent import Agent\n",
    "from simulator import Simulator\n",
    "import pandas as pd\n",
    "\n",
    "# sampler = Single_Signal_Generator(total_timesteps=180, period_range=(10, 40), amplitude_range=(5, 80), noise_amplitude_ratio=0.5)\n",
    "# filename = \"Generated Signals.npy\"\n",
    "# sampler.build_signals(filename, 1000)\n",
    "# sampler.load(filename)\n",
    "# env = Market(sampler=sampler, last_n_timesteps=40, buy_cost=3.3)\n",
    "\n",
    "# ticker=['AAPL', 'TSLA', 'MS']\n",
    "# sample = get_ts(ticker)\n",
    "# sample.to_csv('test_data.csv')\n",
    "sample = pd.read_csv('test_data.csv', index_col=0)\n",
    "print(sample.head())\n",
    "# print(sample.shape)\n",
    "# print(sample.dtypes)\n",
    "env = Market(sample, 20, 3.3)\n",
    "# env.reset()\n",
    "\n",
    "dense_model = [\n",
    "    {\"type\":\"Reshape\", \"target_shape\":(env.get_state().shape[0]*env.get_state().shape[1],)},\n",
    "    {\"type\":\"Dense\", \"units\":30},\n",
    "    {\"type\":\"Dense\", \"units\":30}\n",
    "]\n",
    "conv_model = [\n",
    "    {\"type\":\"Reshape\", \"target_shape\":env.get_state().shape},\n",
    "    {\"type\":\"Conv1D\", \"filters\":16, \"kernel_size\":3, \"activation\":\"relu\"},\n",
    "    {\"type\":\"Conv1D\", \"filters\":16, \"kernel_size\":3, \"activation\":\"relu\"},\n",
    "    {\"type\":\"Flatten\"},\n",
    "    {\"type\":\"Dense\", \"units\":48, \"activation\":\"relu\"},\n",
    "    {\"type\":\"Dense\", \"units\":24, \"activation\":\"relu\"}\n",
    "]\n",
    "gru_model = [\n",
    "    {\"type\":\"Reshape\", \"target_shape\":env.get_state().shape},\n",
    "    {\"type\":\"GRU\", \"units\":16, \"return_sequences\":True},\n",
    "    {\"type\":\"GRU\", \"units\":16, \"return_sequences\":False},\n",
    "    {\"type\":\"Dense\", \"units\":16, \"activation\":\"relu\"},\n",
    "    {\"type\":\"Dense\", \"units\":16, \"activation\":\"relu\"}\n",
    "]\n",
    "lstm_model = [\n",
    "    {\"type\":\"Reshape\", \"target_shape\":env.get_state().shape},\n",
    "    {\"type\":\"LSTM\", \"units\":16, \"return_sequences\":True},\n",
    "    {\"type\":\"LSTM\", \"units\":16, \"return_sequences\":False},\n",
    "    {\"type\":\"Dense\", \"units\":16, \"activation\":\"relu\"},\n",
    "    {\"type\":\"Dense\", \"units\":16, \"activation\":\"relu\"}\n",
    "]\n",
    "\n",
    "q_model = Q_Model(\"GRU\", state_dim=env.get_state().shape, no_of_actions=env.no_of_actions, layers=gru_model, hyperparameters={\"lr\":0.0001})\n",
    "agent = Agent(q_model, batch_size=8, discount_factor=0.995, epsilon=0.5)\n",
    "\n",
    "no_of_episodes_train = 10\n",
    "no_of_episodes_test = 1\n",
    "\n",
    "sim = Simulator(env, agent)\n",
    "sim.train(no_of_episodes_train, epsilon_decay=0.997)\n",
    "# agent.model.save()\n",
    "sim.test(no_of_episodes_test)"
   ]
  },
  {
   "cell_type": "code",
   "execution_count": null,
   "metadata": {},
   "outputs": [],
   "source": []
  },
  {
   "cell_type": "code",
   "execution_count": null,
   "metadata": {},
   "outputs": [],
   "source": []
  }
 ],
 "metadata": {
  "kernelspec": {
   "display_name": "Environment (conda_tensorflow2_p36)",
   "language": "python",
   "name": "conda_tensorflow2_p36"
  },
  "language_info": {
   "codemirror_mode": {
    "name": "ipython",
    "version": 3
   },
   "file_extension": ".py",
   "mimetype": "text/x-python",
   "name": "python",
   "nbconvert_exporter": "python",
   "pygments_lexer": "ipython3",
   "version": "3.6.5"
  }
 },
 "nbformat": 4,
 "nbformat_minor": 2
}
